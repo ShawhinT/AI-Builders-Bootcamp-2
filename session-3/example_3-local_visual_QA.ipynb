{
 "cells": [
  {
   "cell_type": "markdown",
   "id": "f785df67-ce40-44b5-8375-9af6d3c5420a",
   "metadata": {},
   "source": [
    "# Local Visual QA with LLaMA 3.2 Vision\n",
    "## ABB #2 - Session 3\n",
    "\n",
    "Code authored by: Shaw Talebi"
   ]
  },
  {
   "cell_type": "markdown",
   "id": "ccab25a6-d20f-450e-9981-d43bd29a3181",
   "metadata": {},
   "source": [
    "### imports"
   ]
  },
  {
   "cell_type": "code",
   "execution_count": 1,
   "id": "fcc60723-d912-40ed-9b22-260b88d2182e",
   "metadata": {},
   "outputs": [],
   "source": [
    "import ollama\n",
    "import gradio as gr\n",
    "import time"
   ]
  },
  {
   "cell_type": "markdown",
   "id": "cebe3d9d-0759-4832-820f-0d555357bc1f",
   "metadata": {},
   "source": [
    "### basic usage"
   ]
  },
  {
   "cell_type": "code",
   "execution_count": 2,
   "id": "c72e1dd0-b473-49fe-a1eb-0f3fa8a98340",
   "metadata": {},
   "outputs": [
    {
     "data": {
      "text/plain": [
       "ProgressResponse(status='success', completed=None, total=None, digest=None)"
      ]
     },
     "execution_count": 2,
     "metadata": {},
     "output_type": "execute_result"
    }
   ],
   "source": [
    "# pull model\n",
    "ollama.pull('llama3.2-vision')"
   ]
  },
  {
   "cell_type": "code",
   "execution_count": 3,
   "id": "53fd54ff-0e11-4a92-aa29-3735be934fb4",
   "metadata": {},
   "outputs": [
    {
     "name": "stdout",
     "output_type": "stream",
     "text": [
      "The image shows a man sitting on a yellow chair in an office break room. The purpose of the image is to show the man's name tag, which reads \"Shaw\".\n",
      "\n",
      "* A man sitting on a yellow chair:\n",
      "\t+ The man is wearing a dark gray polo shirt with a white name tag that says \"Shaw\".\n",
      "\t+ He has his hands clasped together in front of him.\n",
      "\t+ He is looking at the camera and smiling slightly.\n",
      "* A fireplace with a green chair next to it:\n",
      "\t+ The fireplace is made of wood and has a small fire burning in it.\n",
      "\t+ There is a green chair placed next to the fireplace, which appears to be comfortable and inviting.\n",
      "* A TV on the wall behind the man:\n",
      "\t+ The TV is mounted on the wall above a wooden cabinet.\n",
      "\t+ It appears to be showing some kind of presentation or video.\n",
      "\n",
      "Overall, the image suggests that the man is taking a break in an office break room, possibly after attending a meeting or presentation. The presence of a fireplace and comfortable seating suggests that the break room is designed to be a relaxing and welcoming space for employees."
     ]
    }
   ],
   "source": [
    "# interact with model (locally)\n",
    "stream = ollama.chat(\n",
    "    model='llama3.2-vision',\n",
    "    messages=[{\n",
    "        'role': 'user',\n",
    "        'content': 'Please describe this image',\n",
    "        'images': ['content/shaw.jpeg']\n",
    "    }],\n",
    "    stream=True,\n",
    ")\n",
    "\n",
    "for chunk in stream:\n",
    "    print(chunk['message']['content'], end='', flush=True)"
   ]
  },
  {
   "cell_type": "markdown",
   "id": "b402a518-7d2d-4158-93c3-dcddbbf5ce1e",
   "metadata": {},
   "source": [
    "### gradio UI"
   ]
  },
  {
   "cell_type": "code",
   "execution_count": 4,
   "id": "0e3ee81f-4a84-4fca-a2a0-01a8e7783b2e",
   "metadata": {},
   "outputs": [],
   "source": [
    "# Function to interact with the Ollama model\n",
    "def stream_chat(message, history):\n",
    "    \"\"\"\n",
    "    Streams the response from the Ollama model and sends it to the Gradio UI.\n",
    "    \n",
    "    Args:\n",
    "        message (str): The user input message.\n",
    "        history (list): A list of previous conversation messages.\n",
    "        \n",
    "    Yields:\n",
    "        str: The chatbot's response chunk by chunk.\n",
    "    \"\"\"\n",
    "    # Append the user message to the conversation history\n",
    "    history.append({\"role\": \"user\", \"content\": message[\"text\"], \"images\":message[\"files\"]})\n",
    "    \n",
    "    # Initialize streaming from Ollama\n",
    "    stream = ollama.chat(\n",
    "        model='llama3.2-vision',\n",
    "        messages=history,  # Full chat history including the current user message\n",
    "        stream=True,\n",
    "    )\n",
    "    \n",
    "    response_text = \"\"\n",
    "    for chunk in stream:\n",
    "        content = chunk['message']['content']\n",
    "        response_text += content\n",
    "        yield response_text  # Send the response incrementally to the UI\n",
    "\n",
    "    # Append the assistant's full response to the history\n",
    "    history.append({\"role\": \"assistant\", \"content\": response_text})"
   ]
  },
  {
   "cell_type": "code",
   "execution_count": 5,
   "id": "2072e9ee-c43b-4702-a79e-29e7ac8f3a91",
   "metadata": {},
   "outputs": [
    {
     "name": "stdout",
     "output_type": "stream",
     "text": [
      "* Running on local URL:  http://127.0.0.1:7860\n",
      "\n",
      "To create a public link, set `share=True` in `launch()`.\n"
     ]
    },
    {
     "data": {
      "text/html": [
       "<div><iframe src=\"http://127.0.0.1:7860/\" width=\"100%\" height=\"500\" allow=\"autoplay; camera; microphone; clipboard-read; clipboard-write;\" frameborder=\"0\" allowfullscreen></iframe></div>"
      ],
      "text/plain": [
       "<IPython.core.display.HTML object>"
      ]
     },
     "metadata": {},
     "output_type": "display_data"
    },
    {
     "data": {
      "text/plain": []
     },
     "execution_count": 5,
     "metadata": {},
     "output_type": "execute_result"
    }
   ],
   "source": [
    "# Create a Gradio ChatInterface\n",
    "gr.ChatInterface(\n",
    "    fn=stream_chat,  # The function handling the chat\n",
    "    type=\"messages\",  # Using \"messages\" to enable chat-style conversation\n",
    "    examples=[{\"text\": \"What is this paper about?\", \"files\": ['content/attention-is-all-you-need.png']}],  # Example inputs\n",
    "    multimodal=True,\n",
    ").launch()"
   ]
  },
  {
   "cell_type": "code",
   "execution_count": null,
   "id": "d18e4b9a-ebeb-458e-bce5-b4812937febb",
   "metadata": {},
   "outputs": [],
   "source": []
  }
 ],
 "metadata": {
  "kernelspec": {
   "display_name": "Python 3 (ipykernel)",
   "language": "python",
   "name": "python3"
  },
  "language_info": {
   "codemirror_mode": {
    "name": "ipython",
    "version": 3
   },
   "file_extension": ".py",
   "mimetype": "text/x-python",
   "name": "python",
   "nbconvert_exporter": "python",
   "pygments_lexer": "ipython3",
   "version": "3.12.2"
  }
 },
 "nbformat": 4,
 "nbformat_minor": 5
}
