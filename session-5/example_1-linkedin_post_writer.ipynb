{
 "cells": [
  {
   "cell_type": "markdown",
   "id": "11c076dd-4e32-431c-9793-e0784197e3d1",
   "metadata": {},
   "source": [
    "# Fine-tuning GPT-4o to Write LinkedIn Posts (in my style)\n",
    "## ABB #2 - Session 5\n",
    "\n",
    "Code authored by: Shaw Talebi"
   ]
  },
  {
   "cell_type": "markdown",
   "id": "7c7812b7-9bb9-47da-8116-f6af553e18c5",
   "metadata": {},
   "source": [
    "### imports"
   ]
  },
  {
   "cell_type": "code",
   "execution_count": 1,
   "id": "8369ae91-d925-4ed1-9a85-32fb8e64a153",
   "metadata": {},
   "outputs": [],
   "source": [
    "import os\n",
    "import csv\n",
    "import json\n",
    "import random\n",
    "\n",
    "from openai import OpenAI\n",
    "from dotenv import load_dotenv"
   ]
  },
  {
   "cell_type": "code",
   "execution_count": 2,
   "id": "7f67fe3b-4926-4ece-b3d7-7e77fbf73a28",
   "metadata": {},
   "outputs": [],
   "source": [
    "# import sk from .env file\n",
    "load_dotenv()\n",
    "my_sk = os.getenv(\"OPENAI_API_KEY\")\n",
    "\n",
    "# connect to openai API\n",
    "client = OpenAI(api_key=my_sk)"
   ]
  },
  {
   "cell_type": "markdown",
   "id": "b67b2a2d-75c7-4913-b603-93127ece77fc",
   "metadata": {},
   "source": [
    "### Read data"
   ]
  },
  {
   "cell_type": "code",
   "execution_count": 3,
   "id": "4bc4f088-1331-4de4-a252-c60210479042",
   "metadata": {},
   "outputs": [],
   "source": [
    "# load csv of YouTube comments\n",
    "idea_list = []\n",
    "copy_list = []\n",
    "media_list = []\n",
    "\n",
    "with open('data/LI_posts.csv', mode ='r') as file:\n",
    "    file = csv.reader(file)\n",
    "    \n",
    "    # read file line by line\n",
    "    for line in file:\n",
    "        # skip first line\n",
    "        if line[0]=='Idea':\n",
    "            continue\n",
    "            \n",
    "        # append comments and responses to respective lists\n",
    "        idea_list.append(line[0])\n",
    "        copy_list.append(line[1])\n",
    "        media_list.append(line[2])"
   ]
  },
  {
   "cell_type": "code",
   "execution_count": 4,
   "id": "5bb3cc63-84cb-40ff-bc75-ad40447d46a3",
   "metadata": {},
   "outputs": [
    {
     "name": "stdout",
     "output_type": "stream",
     "text": [
      "50\n",
      "50\n",
      "50\n"
     ]
    }
   ],
   "source": [
    "print(len(idea_list))\n",
    "print(len(copy_list))\n",
    "print(len(media_list))"
   ]
  },
  {
   "cell_type": "markdown",
   "id": "9afd558b-b292-4582-a965-04ebeb46c403",
   "metadata": {},
   "source": [
    "### Create training examples"
   ]
  },
  {
   "cell_type": "code",
   "execution_count": 5,
   "id": "f6ed7112-b939-41d4-9fc2-077c9c85229a",
   "metadata": {},
   "outputs": [],
   "source": [
    "# construct training examples\n",
    "example_list = []\n",
    "\n",
    "system_prompt = \"LinkedIn Post Writer for Shaw Talebi, AI educator and entrepreneur\"\n",
    "\n",
    "prompt_template = lambda idea_string : f\"\"\"Write a LinkedIn post based on the following idea:\n",
    "{idea_string}\n",
    "\n",
    "Include:\n",
    "- A compelling opening line that hooks the reader\n",
    "- Copy that expands upon the idea in valuable way\n",
    "- A call to action or share relevant content\n",
    "\n",
    "Output:\n",
    "\"\"\"\n",
    "\n",
    "for i in range(len(idea_list)):    \n",
    "    system_dict = {\"role\": \"system\", \"content\": system_prompt}\n",
    "    user_dict = {\"role\": \"user\", \"content\": prompt_template(idea_list[i])}\n",
    "    assistant_dict = {\"role\": \"assistant\", \"content\": copy_list[i] + \"\\n\\n--\\nMedia: \" + media_list[i]}\n",
    "    \n",
    "    messages_list = [system_dict, user_dict, assistant_dict]\n",
    "    \n",
    "    example_list.append({\"messages\": messages_list})"
   ]
  },
  {
   "cell_type": "code",
   "execution_count": 6,
   "id": "1c847ac6-89de-413f-a7c4-854e9a514658",
   "metadata": {},
   "outputs": [
    {
     "name": "stdout",
     "output_type": "stream",
     "text": [
      "LinkedIn Post Writer for Shaw Talebi, AI educator and entrepreneur\n",
      "Write a LinkedIn post based on the following idea:\n",
      "3 types of AI Tik Tok\n",
      "\n",
      "Include:\n",
      "- A compelling opening line that hooks the reader\n",
      "- Copy that expands upon the idea in valuable way\n",
      "- A call to action or share relevant content\n",
      "\n",
      "Output:\n",
      "\n",
      "A problem with AI today is that it means different things to different people. \n",
      "\n",
      "This framework from Andrej Karpathy helped give me much more clarity 👇 \n",
      "\n",
      "Software 1.0 = Rule-based software systems. Humans program computers to solve problems step-by-step. \n",
      "\n",
      "Software 2.0 = Computers program themselves by seeing examples (i.e. machine learning) \n",
      "\n",
      "Software 3.0 = Repurposing general-purpose ML models for specific use cases (i.e. GenAI + Foundation Models) \n",
      "\n",
      "But… what’s Software 4.0 going to be? 🤔\n",
      "\n",
      "--\n",
      "Media: Video\n"
     ]
    }
   ],
   "source": [
    "print(example_list[0]['messages'][0]['content'])\n",
    "print(example_list[0]['messages'][1]['content'])\n",
    "print(example_list[0]['messages'][2]['content'])"
   ]
  },
  {
   "cell_type": "code",
   "execution_count": 7,
   "id": "daa80954-4589-4850-8b69-b2427828247b",
   "metadata": {},
   "outputs": [
    {
     "data": {
      "text/plain": [
       "50"
      ]
     },
     "execution_count": 7,
     "metadata": {},
     "output_type": "execute_result"
    }
   ],
   "source": [
    "len(example_list)"
   ]
  },
  {
   "cell_type": "markdown",
   "id": "39301b03-69be-4f2c-b7fd-44e17a22be2a",
   "metadata": {},
   "source": [
    "### Create train/validation split"
   ]
  },
  {
   "cell_type": "code",
   "execution_count": 8,
   "id": "6d43a2f6-b5b8-40c6-92c9-f4ac00c35643",
   "metadata": {},
   "outputs": [],
   "source": [
    "# randomly pick out validation examples\n",
    "num_examples = 10\n",
    "validation_index_list = random.sample(range(0, len(example_list)-1), num_examples)\n",
    "validation_data_list = [example_list[index] for index in validation_index_list]\n",
    "\n",
    "for example in validation_data_list:\n",
    "    example_list.remove(example)"
   ]
  },
  {
   "cell_type": "code",
   "execution_count": 9,
   "id": "7bf38b30-6c4e-4956-96e6-b7bc5f92423f",
   "metadata": {},
   "outputs": [
    {
     "name": "stdout",
     "output_type": "stream",
     "text": [
      "40\n",
      "10\n"
     ]
    }
   ],
   "source": [
    "print(len(example_list))\n",
    "print(len(validation_data_list))"
   ]
  },
  {
   "cell_type": "code",
   "execution_count": 10,
   "id": "09999da1-e0a4-4bee-949d-c31006dad700",
   "metadata": {},
   "outputs": [],
   "source": [
    "# write examples to file\n",
    "with open('data/train-data.jsonl', 'w') as train_file:\n",
    "    for example in example_list:\n",
    "        json.dump(example, train_file)\n",
    "        train_file.write('\\n')\n",
    "\n",
    "with open('data/valid-data.jsonl', 'w') as valid_file:\n",
    "    for example in validation_data_list:\n",
    "        json.dump(example, valid_file)\n",
    "        valid_file.write('\\n')"
   ]
  },
  {
   "cell_type": "markdown",
   "id": "ce1eb41d-f61b-493e-b2dc-1abc458ba9a4",
   "metadata": {},
   "source": [
    "### Upload data to OpenAI"
   ]
  },
  {
   "cell_type": "code",
   "execution_count": 11,
   "id": "4f3ff2b6-7530-48f9-837b-86000d7f72c6",
   "metadata": {},
   "outputs": [],
   "source": [
    "train_file = client.files.create(\n",
    "  file = open(\"data/train-data.jsonl\", \"rb\"),\n",
    "  purpose = \"fine-tune\"\n",
    ")\n",
    "\n",
    "valid_file = client.files.create(\n",
    "  file = open(\"data/valid-data.jsonl\", \"rb\"),\n",
    "  purpose = \"fine-tune\"\n",
    ")"
   ]
  },
  {
   "cell_type": "markdown",
   "id": "d753629d-45e5-4d0f-b0bd-0bef1c51062c",
   "metadata": {},
   "source": [
    "### Fine-tune model"
   ]
  },
  {
   "cell_type": "code",
   "execution_count": 12,
   "id": "88425464-a1ec-4230-a025-19f9a848a73a",
   "metadata": {},
   "outputs": [
    {
     "data": {
      "text/plain": [
       "FineTuningJob(id='ftjob-8aR9ZAPj2qFvGm5YmgdUfWeS', created_at=1739477333, error=Error(code=None, message=None, param=None), fine_tuned_model=None, finished_at=None, hyperparameters=Hyperparameters(n_epochs='auto', batch_size='auto', learning_rate_multiplier='auto'), model='gpt-4o-mini-2024-07-18', object='fine_tuning.job', organization_id='org-KjWERyZ9WLUqIdrdMeJh4zC0', result_files=[], seed=1688267878, status='validating_files', trained_tokens=None, training_file='file-HDad2PgmnvryckA97pzYR6', validation_file='file-YGEvGdP2rq1Hdwmwp1FNJS', estimated_finish=None, integrations=[], user_provided_suffix='LI-post-writer', method={'type': 'supervised', 'supervised': {'hyperparameters': {'batch_size': 'auto', 'learning_rate_multiplier': 'auto', 'n_epochs': 'auto'}}})"
      ]
     },
     "execution_count": 12,
     "metadata": {},
     "output_type": "execute_result"
    }
   ],
   "source": [
    "client.fine_tuning.jobs.create(\n",
    "    training_file = train_file.id,\n",
    "    validation_file = valid_file.id,\n",
    "    suffix = \"LI-post-writer\",\n",
    "    model = \"gpt-4o-mini-2024-07-18\"\n",
    ")"
   ]
  },
  {
   "cell_type": "markdown",
   "id": "3c650e56-77a0-4a76-a52e-6d9194fb6278",
   "metadata": {},
   "source": [
    "### Evaluate fine-tuned model"
   ]
  },
  {
   "cell_type": "code",
   "execution_count": 13,
   "id": "dd26bc6e-7bee-45f2-88a2-e419de0fb762",
   "metadata": {},
   "outputs": [],
   "source": [
    "def generate_post(system_prompt, model_name, idea):\n",
    "    response = client.chat.completions.create(\n",
    "        model=model_name,\n",
    "        messages=[\n",
    "        {\"role\": \"system\", \"content\": system_prompt},\n",
    "        {\"role\": \"user\", \"content\": prompt_template(idea)}\n",
    "        ],\n",
    "        temperature=1,\n",
    "    )\n",
    "    return response.choices[0].message.content"
   ]
  },
  {
   "cell_type": "code",
   "execution_count": 14,
   "id": "7f5b4455-b219-4fee-95ec-d99ab052acbd",
   "metadata": {},
   "outputs": [],
   "source": [
    "idea = \"Python was hard until I learned these 5 things\"\n",
    "idea = \"How I’d Learn AI in 2025 (If I Knew Nothing). Step 1: Use ChatGPT (or the like).Step 2: Install Python.Step 3: Build an Automation (Beginner).Step 4: Build an ML Project (Intermediate).Step 5: Build a Real-world Project (Advanced)Promote blog.\""
   ]
  },
  {
   "cell_type": "code",
   "execution_count": 15,
   "id": "17be2632-d9ee-44b9-9569-19e274f0709f",
   "metadata": {},
   "outputs": [
    {
     "name": "stdout",
     "output_type": "stream",
     "text": [
      "🚀 Diving Into AI in 2025: My Beginner’s Blueprint to Mastery\n",
      "\n",
      "Imagine understanding AI not just as a concept, but as a craft. If I were starting fresh with AI in 2025, I'd take a step-by-step journey to transform from a novice to a practitioner. Here's my roadmap:\n",
      "\n",
      "1️⃣ **Start with Conversational AI**: Embrace tools like ChatGPT as your learning companions. These models offer accessible insights into language processing and problem-solving, allowing you to build intuition from the ground up.\n",
      "\n",
      "2️⃣ **Set the Foundation with Python**: It's the lingua franca of AI. Install Python and explore the basics. Play around with data processing libraries like Pandas and NumPy—they're your first steps into the mechanical wonders of AI.\n",
      "\n",
      "3️⃣ **Automate the Mundane**: Start small with automation projects. Streamline tasks in your daily workflow using Python scripts. It’s a gratifying way to see immediate results while solidifying your coding skills.\n",
      "\n",
      "4️⃣ **Step Up to Machine Learning**: Dive into creating intermediate ML projects. Explore frameworks like Scikit-learn and TensorFlow. Participate in Kaggle competitions to challenge your skills and learn from a vibrant community.\n",
      "\n",
      "5️⃣ **Create a Real-world Impact**: Transition into advanced projects that solve tangible problems. Whether it’s predictive analytics for a business or AI-driven personalization in apps, the goal is to make technology serve real needs.\n",
      "\n",
      "Curious to explore this path? Check out my latest blog post where I break down each step with resources and tips to set you on the path to AI mastery. 🚀 \n",
      "\n",
      "🔗 [Link to blog]\n",
      "\n",
      "Let's embark on this journey together, and turn curiosity into capability. Join the conversation: How would you approach learning AI from scratch today? Share your thoughts in the comments! 👇\n",
      "\n",
      "#AI #MachineLearning #DataScience #Python #FutureOfLearning\n"
     ]
    }
   ],
   "source": [
    "# GPT-4o (no fine-tuning)\n",
    "model_name = \"gpt-4o\"\n",
    "system_prompt_long = \"You are an AI assistant helping Shaw Talebi, an AI educator and entrepreneur, craft LinkedIn posts. Your goal is to generate posts \\\n",
    "that reflect Shaw Talebi's voice: authoritative yet approachable, insightful yet concise. Shaw Talebi's posts aim to educate and inspire professionals \\\n",
    "in the tech and AI space. Focus on providing value, discussing new trends, or offering actionable advice, while keeping the tone professional but \\\n",
    "conversational. The target audience includes entrepreneurs, tech professionals, and decision-makers in AI and data science. Always ensure the post is \\\n",
    "relevant, engaging, and on-brand for Shaw Talebi's public persona.\"\n",
    "\n",
    "# print(system_prompt_long, \"\\n--\")\n",
    "print(generate_post(system_prompt_long, model_name, idea))"
   ]
  },
  {
   "cell_type": "code",
   "execution_count": 16,
   "id": "5cc2e3fb-a692-47eb-87e8-4e9ae788f0ac",
   "metadata": {},
   "outputs": [
    {
     "name": "stdout",
     "output_type": "stream",
     "text": [
      "The world of AI has changed drastically in the past 6 months. \n",
      "\n",
      "This has made it difficult for beginners to know how to learn AI.\n",
      "\n",
      "Fortunately, I believe that by 2025, there will be a clear learning path for beginners, i.e. a step-by-step guide... \n",
      "\n",
      "Here's what I think that would look like 👇 \n",
      "\n",
      "Step 1: Use ChatGPT (or the like) \n",
      "\n",
      "Step 2: Install Python \n",
      "\n",
      "Step 3: Build an Automation (Beginner) \n",
      "\n",
      "Step 4: Build a ML Project (Intermediate) \n",
      "\n",
      "Step 5: Build a Real-world Project (Advanced) \n",
      "\n",
      "What's missing from this learning path? \n",
      "\n",
      "👉 Check out my blog (link in comments)\n"
     ]
    }
   ],
   "source": [
    "# GPT-4o-mini (fine-tuned)\n",
    "model_name = \"ft:gpt-4o-mini-2024-07-18:shawhin-talebi-ventures-llc:li-post-writer:Adk6A5Pd\"\n",
    "\n",
    "# print(system_prompt, \"\\n--\")\n",
    "print(generate_post(system_prompt, model_name, idea))"
   ]
  },
  {
   "cell_type": "code",
   "execution_count": 17,
   "id": "55c2cd55-477e-464f-8480-f9e354fb4341",
   "metadata": {},
   "outputs": [],
   "source": [
    "# # delete files (after fine-tuning is done)\n",
    "# client.files.delete(train_file.id)\n",
    "# client.files.delete(valid_file.id)"
   ]
  }
 ],
 "metadata": {
  "kernelspec": {
   "display_name": "Python 3 (ipykernel)",
   "language": "python",
   "name": "python3"
  },
  "language_info": {
   "codemirror_mode": {
    "name": "ipython",
    "version": 3
   },
   "file_extension": ".py",
   "mimetype": "text/x-python",
   "name": "python",
   "nbconvert_exporter": "python",
   "pygments_lexer": "ipython3",
   "version": "3.12.2"
  }
 },
 "nbformat": 4,
 "nbformat_minor": 5
}
