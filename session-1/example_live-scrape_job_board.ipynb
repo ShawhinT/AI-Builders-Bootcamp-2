{
 "cells": [
  {
   "cell_type": "markdown",
   "id": "a1a6cddc-3cf6-43b6-9e2c-77e5881379d7",
   "metadata": {},
   "source": [
    "# Example Web Scraper\n",
    "## ABB 2 - Session 1\n",
    "\n",
    "Code authored by: Shaw Talebi\n",
    "\n",
    "Note: Live code example from class. Something went wrong toward the end and we didn't have time to debug :(.\n","\n", "See [example 1](https://github.com/ShawhinT/AI-Builders-Bootcamp-2/blob/main/session-1/example_1-scrape_job_board.ipynb) for working version of this project."
   ]
  },
  {
   "cell_type": "markdown",
   "id": "3025214d-df0c-4ca9-b031-09619023bcb0",
   "metadata": {},
   "source": [
    "### imports"
   ]
  },
  {
   "cell_type": "code",
   "execution_count": 1,
   "id": "a896450a-7b6d-4604-b6bf-3c0a8c741ed7",
   "metadata": {},
   "outputs": [],
   "source": [
    "import requests\n",
    "from bs4 import BeautifulSoup\n",
    "import re\n",
    "import pandas as pd"
   ]
  },
  {
   "cell_type": "markdown",
   "id": "fb1adf57-e5e9-4afa-8de7-4b182df5e405",
   "metadata": {},
   "source": [
    "### Extract job posting urls"
   ]
  },
  {
   "cell_type": "code",
   "execution_count": 2,
   "id": "c057f43e-30ab-4af7-b9c7-e849b33f8443",
   "metadata": {},
   "outputs": [],
   "source": [
    "# URL of the job board\n",
    "url = \"https://aijobs.net\"\n",
    "\n",
    "# Send a GET request to fetch the HTML content\n",
    "response = requests.get(url)"
   ]
  },
  {
   "cell_type": "code",
   "execution_count": 3,
   "id": "05c75745-e983-4928-993a-4e2008429e9b",
   "metadata": {},
   "outputs": [],
   "source": [
    "# Parse the HTML content with BeautifulSoup\n",
    "soup = BeautifulSoup(response.text, 'html.parser')"
   ]
  },
  {
   "cell_type": "code",
   "execution_count": 4,
   "id": "f1eb873f-385a-489c-9f8e-2a417ce0214b",
   "metadata": {},
   "outputs": [],
   "source": [
    "# Regex pattern to match job links with a numeric ID\n",
    "job_url_pattern = re.compile(r\"^/job/\\d+-\")\n",
    "\n",
    "# Find all <a> tags with href that match the job URL pattern\n",
    "job_link_list = []\n",
    "for a_tag in soup.find_all('a', href=True):\n",
    "    href = a_tag['href']\n",
    "    if job_url_pattern.match(href):\n",
    "        full_url = f\"{url}{href}\"\n",
    "        job_link_list.append(full_url)"
   ]
  },
  {
   "cell_type": "markdown",
   "id": "73d32c4d-d4cd-473f-a600-c8f5403a9ca1",
   "metadata": {},
   "source": [
    "### Extract job info from urls\n",
    "- Job title\n",
    "- Company name\n",
    "- salary range\n",
    "- JD"
   ]
  },
  {
   "cell_type": "code",
   "execution_count": 5,
   "id": "ddfa0630-8680-4fc5-a7c1-556f68a8b0e3",
   "metadata": {},
   "outputs": [],
   "source": [
    "def extract_job_details_from_url(url):\n",
    "    \"\"\"\n",
    "    Fetches a job listing page from the given URL and extracts job details,\n",
    "    including job title, company name, salary range, and job description.\n",
    "\n",
    "    Args:\n",
    "        url (str): The URL of the job listing page.\n",
    "\n",
    "    Returns:\n",
    "        dict: A dictionary containing the following keys:\n",
    "            - 'job_title' (str): The job title.\n",
    "            - 'company_name' (str): The name of the company.\n",
    "            - 'salary_range' (str): The salary range, if available; otherwise 'Not specified'.\n",
    "            - 'min_salary' (str): The minimum salary extracted from the range, if available.\n",
    "            - 'max_salary' (str): The maximum salary extracted from the range, if available.\n",
    "            - 'job_description' (str): The job description text; otherwise 'No description available'.\n",
    "    \"\"\"\n",
    "    # Send a GET request to fetch the HTML content\n",
    "    response = requests.get(url)\n",
    "    \n",
    "    # Check if the request was successful\n",
    "    if response.status_code != 200:\n",
    "        return {'error': f'Failed to fetch URL. Status code: {response.status_code}'}\n",
    "    \n",
    "    # Parse the HTML content with BeautifulSoup\n",
    "    soup = BeautifulSoup(response.text, 'html.parser')\n",
    "    \n",
    "    # Extract Job Title\n",
    "    job_title_tag = soup.find('h1', class_='display-5')\n",
    "    job_title = job_title_tag.text.strip() if job_title_tag else 'Not specified'\n",
    "\n",
    "    # Extract Company Name\n",
    "    company_name_tag = soup.find('h2', class_='h5')\n",
    "    company_name = company_name_tag.text.strip() if company_name_tag else 'Not specified'\n",
    "\n",
    "    # Extract Salary Range (badge with class 'text-bg-success' containing 'USD')\n",
    "    salary_tag = soup.find('span', class_='badge rounded-pill text-bg-success my-1')\n",
    "    salary_range = salary_tag.text.strip() if salary_tag else 'Not specified'\n",
    "\n",
    "    # Use regex to extract min and max salary\n",
    "    salary_match = re.search(r'USD\\s(\\d+K)\\s-\\s(\\d+K)', salary_range)\n",
    "    if salary_match:\n",
    "        min_salary = salary_match.group(1)  # First capturing group: min salary\n",
    "        max_salary = salary_match.group(2)  # Second capturing group: max salary\n",
    "    else:\n",
    "        min_salary = max_salary = 'Not specified'\n",
    "\n",
    "    # Extract Job Description\n",
    "    job_description_section = soup.find('div', id='job-description')\n",
    "    job_description = job_description_section.get_text(separator='\\n').strip() if job_description_section else 'No description available'\n",
    "\n",
    "    return {\n",
    "        'job_title': job_title,\n",
    "        'company_name': company_name,\n",
    "        'salary_range': salary_range,\n",
    "        'min_salary': min_salary,\n",
    "        'max_salary': max_salary,\n",
    "        'job_description': job_description\n",
    "    }"
   ]
  },
  {
   "cell_type": "code",
   "execution_count": 6,
   "id": "d1164186-e481-4522-ab00-1bc99e182707",
   "metadata": {},
   "outputs": [],
   "source": [
    "job_list = []\n",
    "for job_link in job_link_list:\n",
    "    job_list.append(extract_job_details_from_url(url))"
   ]
  },
  {
   "cell_type": "code",
   "execution_count": 9,
   "id": "c72c8e66-9d32-44e3-9bfd-5fe23fba955c",
   "metadata": {},
   "outputs": [
    {
     "data": {
      "text/plain": [
       "{'job_title': 'Not specified',\n",
       " 'company_name': 'Not specified',\n",
       " 'salary_range': 'Not specified',\n",
       " 'min_salary': 'Not specified',\n",
       " 'max_salary': 'Not specified',\n",
       " 'job_description': 'No description available'}"
      ]
     },
     "execution_count": 9,
     "metadata": {},
     "output_type": "execute_result"
    }
   ],
   "source": [
    "job_list[0]"
   ]
  },
  {
   "cell_type": "code",
   "execution_count": 7,
   "id": "9d6910e0-4846-418d-bbba-bebfbfe72e44",
   "metadata": {},
   "outputs": [],
   "source": [
    "df = pd.DataFrame(job_list)"
   ]
  },
  {
   "cell_type": "code",
   "execution_count": 8,
   "id": "d9c107f3-e4e4-4031-b888-6dfea127c357",
   "metadata": {},
   "outputs": [
    {
     "data": {
      "text/html": [
       "<div>\n",
       "<style scoped>\n",
       "    .dataframe tbody tr th:only-of-type {\n",
       "        vertical-align: middle;\n",
       "    }\n",
       "\n",
       "    .dataframe tbody tr th {\n",
       "        vertical-align: top;\n",
       "    }\n",
       "\n",
       "    .dataframe thead th {\n",
       "        text-align: right;\n",
       "    }\n",
       "</style>\n",
       "<table border=\"1\" class=\"dataframe\">\n",
       "  <thead>\n",
       "    <tr style=\"text-align: right;\">\n",
       "      <th></th>\n",
       "      <th>job_title</th>\n",
       "      <th>company_name</th>\n",
       "      <th>salary_range</th>\n",
       "      <th>min_salary</th>\n",
       "      <th>max_salary</th>\n",
       "      <th>job_description</th>\n",
       "    </tr>\n",
       "  </thead>\n",
       "  <tbody>\n",
       "    <tr>\n",
       "      <th>0</th>\n",
       "      <td>Not specified</td>\n",
       "      <td>Not specified</td>\n",
       "      <td>Not specified</td>\n",
       "      <td>Not specified</td>\n",
       "      <td>Not specified</td>\n",
       "      <td>No description available</td>\n",
       "    </tr>\n",
       "    <tr>\n",
       "      <th>1</th>\n",
       "      <td>Not specified</td>\n",
       "      <td>Not specified</td>\n",
       "      <td>Not specified</td>\n",
       "      <td>Not specified</td>\n",
       "      <td>Not specified</td>\n",
       "      <td>No description available</td>\n",
       "    </tr>\n",
       "    <tr>\n",
       "      <th>2</th>\n",
       "      <td>Not specified</td>\n",
       "      <td>Not specified</td>\n",
       "      <td>Not specified</td>\n",
       "      <td>Not specified</td>\n",
       "      <td>Not specified</td>\n",
       "      <td>No description available</td>\n",
       "    </tr>\n",
       "    <tr>\n",
       "      <th>3</th>\n",
       "      <td>Not specified</td>\n",
       "      <td>Not specified</td>\n",
       "      <td>Not specified</td>\n",
       "      <td>Not specified</td>\n",
       "      <td>Not specified</td>\n",
       "      <td>No description available</td>\n",
       "    </tr>\n",
       "    <tr>\n",
       "      <th>4</th>\n",
       "      <td>Not specified</td>\n",
       "      <td>Not specified</td>\n",
       "      <td>Not specified</td>\n",
       "      <td>Not specified</td>\n",
       "      <td>Not specified</td>\n",
       "      <td>No description available</td>\n",
       "    </tr>\n",
       "  </tbody>\n",
       "</table>\n",
       "</div>"
      ],
      "text/plain": [
       "       job_title   company_name   salary_range     min_salary     max_salary  \\\n",
       "0  Not specified  Not specified  Not specified  Not specified  Not specified   \n",
       "1  Not specified  Not specified  Not specified  Not specified  Not specified   \n",
       "2  Not specified  Not specified  Not specified  Not specified  Not specified   \n",
       "3  Not specified  Not specified  Not specified  Not specified  Not specified   \n",
       "4  Not specified  Not specified  Not specified  Not specified  Not specified   \n",
       "\n",
       "            job_description  \n",
       "0  No description available  \n",
       "1  No description available  \n",
       "2  No description available  \n",
       "3  No description available  \n",
       "4  No description available  "
      ]
     },
     "execution_count": 8,
     "metadata": {},
     "output_type": "execute_result"
    }
   ],
   "source": [
    "df.head()"
   ]
  },
  {
   "cell_type": "code",
   "execution_count": null,
   "id": "1bf3e657-fbea-432e-a1e6-7bae40facc5e",
   "metadata": {},
   "outputs": [],
   "source": []
  }
 ],
 "metadata": {
  "kernelspec": {
   "display_name": "Python 3 (ipykernel)",
   "language": "python",
   "name": "python3"
  },
  "language_info": {
   "codemirror_mode": {
    "name": "ipython",
    "version": 3
   },
   "file_extension": ".py",
   "mimetype": "text/x-python",
   "name": "python",
   "nbconvert_exporter": "python",
   "pygments_lexer": "ipython3",
   "version": "3.12.2"
  }
 },
 "nbformat": 4,
 "nbformat_minor": 5
}
