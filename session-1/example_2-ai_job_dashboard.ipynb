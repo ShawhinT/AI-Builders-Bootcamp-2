{
 "cells": [
  {
   "cell_type": "markdown",
   "id": "5a03dc1a-4e25-4f7c-bd50-c3f62882d6a0",
   "metadata": {},
   "source": [
    "# AI Job Dashboard with Plotly Dash\n",
    "## ABB #2 - Session 1\n",
    "\n",
    "Code authored by: Shaw Talebi"
   ]
  },
  {
   "cell_type": "markdown",
   "id": "16ad25a6-b743-45f7-86fe-5d718c7f5bb3",
   "metadata": {},
   "source": [
    "### imports"
   ]
  },
  {
   "cell_type": "code",
   "execution_count": 1,
   "id": "965a89aa-c8bd-46ee-9e85-db9b3dbda95c",
   "metadata": {},
   "outputs": [],
   "source": [
    "import pandas as pd\n",
    "import re\n",
    "from collections import Counter\n",
    "\n",
    "import plotly.express as px\n",
    "from dash import dcc, html, Dash"
   ]
  },
  {
   "cell_type": "markdown",
   "id": "35a1548e-cdfe-4d24-8bea-215814426fdc",
   "metadata": {},
   "source": [
    "### 1) import data"
   ]
  },
  {
   "cell_type": "code",
   "execution_count": 2,
   "id": "1459f01e-5c43-4276-a7cb-5231308d7473",
   "metadata": {},
   "outputs": [
    {
     "data": {
      "text/html": [
       "<div>\n",
       "<style scoped>\n",
       "    .dataframe tbody tr th:only-of-type {\n",
       "        vertical-align: middle;\n",
       "    }\n",
       "\n",
       "    .dataframe tbody tr th {\n",
       "        vertical-align: top;\n",
       "    }\n",
       "\n",
       "    .dataframe thead th {\n",
       "        text-align: right;\n",
       "    }\n",
       "</style>\n",
       "<table border=\"1\" class=\"dataframe\">\n",
       "  <thead>\n",
       "    <tr style=\"text-align: right;\">\n",
       "      <th></th>\n",
       "      <th>company_name</th>\n",
       "      <th>job_title</th>\n",
       "      <th>job_description</th>\n",
       "      <th>salary_min</th>\n",
       "      <th>salary_max</th>\n",
       "    </tr>\n",
       "  </thead>\n",
       "  <tbody>\n",
       "    <tr>\n",
       "      <th>0</th>\n",
       "      <td>murmuration</td>\n",
       "      <td>Staff Software Engineer</td>\n",
       "      <td>Who We Are Murmuration is a nonprofit organiza...</td>\n",
       "      <td>135000.0</td>\n",
       "      <td>165000.0</td>\n",
       "    </tr>\n",
       "    <tr>\n",
       "      <th>2</th>\n",
       "      <td>Endeavour Group</td>\n",
       "      <td>Mid/Senior Data Scientist</td>\n",
       "      <td>Company DescriptionLet’s create a more sociabl...</td>\n",
       "      <td>91774.0</td>\n",
       "      <td>170438.0</td>\n",
       "    </tr>\n",
       "    <tr>\n",
       "      <th>3</th>\n",
       "      <td>IBM</td>\n",
       "      <td>Data Scientist-Artificial Intelligence</td>\n",
       "      <td>IntroductionIn this role you will join IBM Con...</td>\n",
       "      <td>74567.0</td>\n",
       "      <td>138482.0</td>\n",
       "    </tr>\n",
       "    <tr>\n",
       "      <th>4</th>\n",
       "      <td>NielsenIQ</td>\n",
       "      <td>Senior Data Scientist</td>\n",
       "      <td>Company DescriptionGfk is seeking a Data Scien...</td>\n",
       "      <td>57359.0</td>\n",
       "      <td>106524.0</td>\n",
       "    </tr>\n",
       "    <tr>\n",
       "      <th>5</th>\n",
       "      <td>Redhorse</td>\n",
       "      <td>Senior Full Stack Software Engineer - AI  ML M...</td>\n",
       "      <td>About the OrganizationNow is a great time to j...</td>\n",
       "      <td>141372.0</td>\n",
       "      <td>262548.0</td>\n",
       "    </tr>\n",
       "  </tbody>\n",
       "</table>\n",
       "</div>"
      ],
      "text/plain": [
       "      company_name                                          job_title  \\\n",
       "0      murmuration                            Staff Software Engineer   \n",
       "2  Endeavour Group                          Mid/Senior Data Scientist   \n",
       "3              IBM             Data Scientist-Artificial Intelligence   \n",
       "4        NielsenIQ                              Senior Data Scientist   \n",
       "5         Redhorse  Senior Full Stack Software Engineer - AI  ML M...   \n",
       "\n",
       "                                     job_description  salary_min  salary_max  \n",
       "0  Who We Are Murmuration is a nonprofit organiza...    135000.0    165000.0  \n",
       "2  Company DescriptionLet’s create a more sociabl...     91774.0    170438.0  \n",
       "3  IntroductionIn this role you will join IBM Con...     74567.0    138482.0  \n",
       "4  Company DescriptionGfk is seeking a Data Scien...     57359.0    106524.0  \n",
       "5  About the OrganizationNow is a great time to j...    141372.0    262548.0  "
      ]
     },
     "execution_count": 2,
     "metadata": {},
     "output_type": "execute_result"
    }
   ],
   "source": [
    "df = pd.read_csv(\"data/ai_job_data.csv\")\n",
    "df = df.dropna()\n",
    "df.head()"
   ]
  },
  {
   "cell_type": "markdown",
   "id": "7b2d0fd5-51a4-4f23-b4b6-76b11ce93412",
   "metadata": {},
   "source": [
    "### 2) pre-process data"
   ]
  },
  {
   "cell_type": "markdown",
   "id": "f6ad05f8-f5d9-4680-ba76-525c944a7ff2",
   "metadata": {},
   "source": [
    "#### standardize job titles"
   ]
  },
  {
   "cell_type": "code",
   "execution_count": 3,
   "id": "e17467dc-73d1-4aa1-aa01-d383ae132053",
   "metadata": {
    "jupyter": {
     "source_hidden": true
    }
   },
   "outputs": [],
   "source": [
    "def standardize_job_title(title):\n",
    "    \"\"\"\n",
    "    Standardizes a given job title string by returning a predefined canonical job title without adding seniority levels.\n",
    "\n",
    "    Args:\n",
    "        title (str): The job title string to be standardized.\n",
    "\n",
    "    Returns:\n",
    "        str: A standardized job title based on predefined categories, handling compound roles\n",
    "             and specialized AI-related job functions.\n",
    "    \"\"\"\n",
    "    title = title.lower()\n",
    "    \n",
    "    # Define keyword mappings for specialized roles\n",
    "    role_mappings = {\n",
    "        \"AI Scientist\": [\"ai scientist\", \"ml scientist\", \"ai/ml scientist\"],\n",
    "        \"Prompt Engineer\": [\"prompt engineer\"],\n",
    "        \"Deep Learning Engineer\": [\"deep learning\", \"dl engineer\", \"deep learning systems\"],\n",
    "        \"Data Scientist\": [\"data scientist\", \"decision scientist\", \"analytics scientist\"],\n",
    "        \"Decision Science Analyst\": [\"decision science\", \"decision analyst\"],\n",
    "        \"Software Engineer\": [\"software engineer\", \"full stack\", \"backend\", \"frontend\", \"performance engineer\"],\n",
    "        \"Data Engineer\": [\"data engineer\", \"etl developer\", \"pipeline engineer\", \"spark\", \"scala\", \"aws\"],\n",
    "        \"ML Ops Engineer\": [\"ml ops\", \"model development\", \"ml operations\", \"applied data science\"],\n",
    "        \"Security Engineer\": [\"security engineer\", \"data security\"],\n",
    "        \"Electrical Engineer\": [\"electrical design\", \"data center design\"],\n",
    "        \"Manager\": [\"manager\", \"product manager\", \"project manager\"],\n",
    "        \"Director\": [\"director\", \"head of\", \"vp\", \"vice president\"],\n",
    "        \"Intern\": [\"intern\", \"trainee\"],\n",
    "        \"Researcher\": [\"researcher\", \"research engineer\"],\n",
    "    }\n",
    "\n",
    "    # Check for keywords in the title and return the corresponding standardized title\n",
    "    for standard_title, keywords in role_mappings.items():\n",
    "        if any(keyword in title for keyword in keywords):\n",
    "            return standard_title\n",
    "    \n",
    "    # Return \"Other\" if no match is found\n",
    "    return \"Other\""
   ]
  },
  {
   "cell_type": "code",
   "execution_count": 4,
   "id": "ec35e757-2e69-487f-a62c-eb7546581a86",
   "metadata": {},
   "outputs": [
    {
     "name": "stdout",
     "output_type": "stream",
     "text": [
      "Num raw job titles: 45\n",
      "Num standardized job titles: 11\n"
     ]
    }
   ],
   "source": [
    "# Apply the regex-based function to the job_title column\n",
    "df['standardized_job_title'] = df['job_title'].apply(standardize_job_title)\n",
    "\n",
    "print(\"Num raw job titles:\", df['job_title'].nunique())\n",
    "print(\"Num standardized job titles:\", df['standardized_job_title'].nunique())"
   ]
  },
  {
   "cell_type": "code",
   "execution_count": 5,
   "id": "976459bb-58db-4189-8f3a-0b5192a3d183",
   "metadata": {},
   "outputs": [
    {
     "data": {
      "text/html": [
       "<div>\n",
       "<style scoped>\n",
       "    .dataframe tbody tr th:only-of-type {\n",
       "        vertical-align: middle;\n",
       "    }\n",
       "\n",
       "    .dataframe tbody tr th {\n",
       "        vertical-align: top;\n",
       "    }\n",
       "\n",
       "    .dataframe thead th {\n",
       "        text-align: right;\n",
       "    }\n",
       "</style>\n",
       "<table border=\"1\" class=\"dataframe\">\n",
       "  <thead>\n",
       "    <tr style=\"text-align: right;\">\n",
       "      <th></th>\n",
       "      <th>Job Title</th>\n",
       "      <th>Mean Salary</th>\n",
       "    </tr>\n",
       "  </thead>\n",
       "  <tbody>\n",
       "    <tr>\n",
       "      <th>0</th>\n",
       "      <td>Other</td>\n",
       "      <td>70230.666667</td>\n",
       "    </tr>\n",
       "    <tr>\n",
       "      <th>1</th>\n",
       "      <td>Prompt Engineer</td>\n",
       "      <td>112071.666667</td>\n",
       "    </tr>\n",
       "    <tr>\n",
       "      <th>2</th>\n",
       "      <td>Manager</td>\n",
       "      <td>116800.000000</td>\n",
       "    </tr>\n",
       "    <tr>\n",
       "      <th>3</th>\n",
       "      <td>Data Engineer</td>\n",
       "      <td>136379.222222</td>\n",
       "    </tr>\n",
       "    <tr>\n",
       "      <th>4</th>\n",
       "      <td>AI Scientist</td>\n",
       "      <td>147840.000000</td>\n",
       "    </tr>\n",
       "  </tbody>\n",
       "</table>\n",
       "</div>"
      ],
      "text/plain": [
       "         Job Title    Mean Salary\n",
       "0            Other   70230.666667\n",
       "1  Prompt Engineer  112071.666667\n",
       "2          Manager  116800.000000\n",
       "3    Data Engineer  136379.222222\n",
       "4     AI Scientist  147840.000000"
      ]
     },
     "execution_count": 5,
     "metadata": {},
     "output_type": "execute_result"
    }
   ],
   "source": [
    "# sum max salary for each standardized job title\n",
    "s_jobs = df.groupby('standardized_job_title')['salary_max'].mean()\n",
    "s_jobs = s_jobs.sort_values()\n",
    "\n",
    "# convert to dataframe\n",
    "df_jobs = s_jobs.reset_index()\n",
    "df_jobs.columns = [\"Job Title\", \"Mean Salary\"]\n",
    "df_jobs.head()"
   ]
  },
  {
   "cell_type": "markdown",
   "id": "e8108630-588e-4e6a-847a-ea1768b9adff",
   "metadata": {},
   "source": [
    "#### extract common skills from JD"
   ]
  },
  {
   "cell_type": "code",
   "execution_count": 6,
   "id": "80536ed7-aa1e-4254-bf25-d877c89ab9c0",
   "metadata": {
    "jupyter": {
     "source_hidden": true
    }
   },
   "outputs": [],
   "source": [
    "def extract_skills(description):\n",
    "    \"\"\"\n",
    "    Extracts AI-related skills from a given job description.\n",
    "\n",
    "    Args:\n",
    "        description (str): The job description text to search for skills.\n",
    "\n",
    "    Returns:\n",
    "        list: A list of skills found in the job description, matched from a predefined set of common AI-related skills.\n",
    "\n",
    "    Notes:\n",
    "        - The function defines a list of common AI-related skills, including programming languages, frameworks,\n",
    "          cloud platforms, and statistical concepts.\n",
    "        - The input description is converted to lowercase to ensure case-insensitive matching.\n",
    "        - Skills are detected using regular expressions to match whole words, avoiding partial matches (e.g., \n",
    "          \"spark\" will not match \"sparking\").\n",
    "    \"\"\"\n",
    "    \n",
    "    # Define a list of common AI-related skills\n",
    "    skills_list = [\n",
    "        \"python\", \"r\", \"java\", \"c++\", \"sql\", \"scala\", \"spark\", \"hadoop\", \"tensorflow\", \"pytorch\",\n",
    "        \"keras\", \"scikit-learn\", \"machine learning\", \"deep learning\", \"nlp\", \"natural language processing\",\n",
    "        \"computer vision\", \"data analysis\", \"data engineering\", \"big data\", \"ai\", \"artificial intelligence\",\n",
    "        \"cloud\", \"aws\", \"azure\", \"gcp\", \"docker\", \"kubernetes\", \"linux\", \"flask\", \"django\", \"pandas\",\n",
    "        \"numpy\", \"matplotlib\", \"seaborn\", \"plotly\", \"etl\", \"api\", \"statistics\", \"probability\", \"regression\",\n",
    "        \"classification\", \"clustering\", \"time series\", \"neural networks\", \"bayesian methods\", \"git\", \"mlops\"\n",
    "    ]\n",
    "\n",
    "    description = description.lower()\n",
    "    found_skills = [skill for skill in skills_list if re.search(rf\"\\b{re.escape(skill)}\\b\", description)]\n",
    "    \n",
    "    return found_skills\n",
    "\n",
    "# notice we could have done something similar to get standardized job titles"
   ]
  },
  {
   "cell_type": "code",
   "execution_count": 7,
   "id": "e5f0b7c2-ee3e-4092-abd0-1fe239eb9b9f",
   "metadata": {},
   "outputs": [
    {
     "data": {
      "text/plain": [
       "0                  [aws, docker, kubernetes, api, git]\n",
       "2    [python, sql, machine learning, data engineeri...\n",
       "3    [python, r, sql, scala, tensorflow, pytorch, m...\n",
       "4    [python, r, sql, spark, big data, cloud, azure...\n",
       "5    [python, java, ai, artificial intelligence, ku...\n",
       "Name: extracted_skills, dtype: object"
      ]
     },
     "execution_count": 7,
     "metadata": {},
     "output_type": "execute_result"
    }
   ],
   "source": [
    "# Apply the function to extract skills from each job description\n",
    "df['extracted_skills'] = df['job_description'].apply(lambda x: extract_skills(str(x)))\n",
    "df['extracted_skills'].head()"
   ]
  },
  {
   "cell_type": "code",
   "execution_count": 8,
   "id": "6b28a4aa-e19b-4565-b256-798485c7b016",
   "metadata": {},
   "outputs": [
    {
     "data": {
      "text/html": [
       "<div>\n",
       "<style scoped>\n",
       "    .dataframe tbody tr th:only-of-type {\n",
       "        vertical-align: middle;\n",
       "    }\n",
       "\n",
       "    .dataframe tbody tr th {\n",
       "        vertical-align: top;\n",
       "    }\n",
       "\n",
       "    .dataframe thead th {\n",
       "        text-align: right;\n",
       "    }\n",
       "</style>\n",
       "<table border=\"1\" class=\"dataframe\">\n",
       "  <thead>\n",
       "    <tr style=\"text-align: right;\">\n",
       "      <th></th>\n",
       "      <th>Skill</th>\n",
       "      <th>Count</th>\n",
       "    </tr>\n",
       "  </thead>\n",
       "  <tbody>\n",
       "    <tr>\n",
       "      <th>38</th>\n",
       "      <td>clustering</td>\n",
       "      <td>1</td>\n",
       "    </tr>\n",
       "    <tr>\n",
       "      <th>26</th>\n",
       "      <td>mlops</td>\n",
       "      <td>1</td>\n",
       "    </tr>\n",
       "    <tr>\n",
       "      <th>37</th>\n",
       "      <td>neural networks</td>\n",
       "      <td>1</td>\n",
       "    </tr>\n",
       "    <tr>\n",
       "      <th>27</th>\n",
       "      <td>keras</td>\n",
       "      <td>1</td>\n",
       "    </tr>\n",
       "    <tr>\n",
       "      <th>36</th>\n",
       "      <td>c++</td>\n",
       "      <td>1</td>\n",
       "    </tr>\n",
       "  </tbody>\n",
       "</table>\n",
       "</div>"
      ],
      "text/plain": [
       "              Skill  Count\n",
       "38       clustering      1\n",
       "26            mlops      1\n",
       "37  neural networks      1\n",
       "27            keras      1\n",
       "36              c++      1"
      ]
     },
     "execution_count": 8,
     "metadata": {},
     "output_type": "execute_result"
    }
   ],
   "source": [
    "# create a list with all the skills from the JDs\n",
    "all_skills = [skill for skills in df['extracted_skills'] for skill in skills]\n",
    "\n",
    "# count skill occurances\n",
    "skill_counts = Counter(all_skills)\n",
    "\n",
    "# Convert the skill counts to a DataFrame\n",
    "df_skills = pd.DataFrame(skill_counts.items(), columns=[\"Skill\", \"Count\"]).sort_values(by=\"Count\")\n",
    "df_skills.head()"
   ]
  },
  {
   "cell_type": "markdown",
   "id": "ef2e89fe-14ee-43b2-87ac-1b791876e138",
   "metadata": {},
   "source": [
    "### 3) create dashboard"
   ]
  },
  {
   "cell_type": "code",
   "execution_count": 9,
   "id": "52f75565-3e9c-4f98-8c99-77ddd6d44130",
   "metadata": {},
   "outputs": [],
   "source": [
    "# Create the plots\n",
    "bar_chart = dcc.Graph(\n",
    "    id='top-roles',\n",
    "    figure=px.bar(df.sort_values(by='salary_max', ascending=False), \n",
    "                  x='standardized_job_title', \n",
    "                  y='salary_max', \n",
    "                  color='company_name', \n",
    "                  title='Highest Paying AI Jobs',\n",
    "                  labels={'salary_max': 'Maximum Salary', 'job_title': 'Job Title'},\n",
    "                  height=500)\n",
    ")\n",
    "\n",
    "top_jobs_chart = dcc.Graph(\n",
    "    id='top-jobs-chart',\n",
    "    figure=px.bar(\n",
    "        df_jobs[-5:],\n",
    "        y='Job Title',      \n",
    "        x='Mean Salary',\n",
    "        title='Top 5 Roles',\n",
    "        height=250\n",
    "    ).update_layout(\n",
    "        xaxis_title_font_size=12,    # Reduce x-axis label font size\n",
    "        yaxis_title_font_size=12,    # Reduce y-axis label font size\n",
    "        xaxis_tickfont_size=10,      # Reduce x-axis tick label font size\n",
    "        yaxis_tickfont_size=10       # Reduce y-axis tick label font size\n",
    "    )\n",
    ")\n",
    "\n",
    "top_skills_chart = dcc.Graph(\n",
    "    id='top-skills-chart',\n",
    "    figure=px.bar(\n",
    "        df_skills[-5:],\n",
    "        y='Skill',      \n",
    "        x='Count',\n",
    "        title='Top 5 Skills',\n",
    "        height=250\n",
    "    ).update_layout(\n",
    "        xaxis_title_font_size=12,    # Reduce x-axis label font size\n",
    "        yaxis_title_font_size=12,    # Reduce y-axis label font size\n",
    "        xaxis_tickfont_size=10,      # Reduce x-axis tick label font size\n",
    "        yaxis_tickfont_size=10       # Reduce y-axis tick label font size\n",
    "    )\n",
    ")"
   ]
  },
  {
   "cell_type": "code",
   "execution_count": 10,
   "id": "34d3ea91-6fa0-444e-b3a5-28add2aa8ac6",
   "metadata": {},
   "outputs": [
    {
     "name": "stdout",
     "output_type": "stream",
     "text": [
      "Dash app running on http://127.0.0.1:8050/\n"
     ]
    }
   ],
   "source": [
    "# Initialize the Dash app\n",
    "app = Dash(__name__)\n",
    "\n",
    "# App layout with styled divs for positioning\n",
    "app.layout = html.Div([\n",
    "    html.Div(bar_chart, style={'width': '70%', 'display': 'inline-block', 'vertical-align': 'top'}),\n",
    "    html.Div([\n",
    "        html.Div(top_jobs_chart, style={'height': '50%'}),\n",
    "        html.Div(top_skills_chart, style={'height': '50%'})\n",
    "    ], style={'width': '30%', 'display': 'inline-block', 'vertical-align': 'top'})\n",
    "])\n",
    "\n",
    "# Run the app\n",
    "app.run(jupyter_mode=\"external\")"
   ]
  },
  {
   "cell_type": "code",
   "execution_count": null,
   "id": "072b98f8-d820-437a-86e9-cefcdb4a9d5c",
   "metadata": {},
   "outputs": [],
   "source": []
  }
 ],
 "metadata": {
  "kernelspec": {
   "display_name": "Python 3 (ipykernel)",
   "language": "python",
   "name": "python3"
  },
  "language_info": {
   "codemirror_mode": {
    "name": "ipython",
    "version": 3
   },
   "file_extension": ".py",
   "mimetype": "text/x-python",
   "name": "python",
   "nbconvert_exporter": "python",
   "pygments_lexer": "ipython3",
   "version": "3.12.2"
  }
 },
 "nbformat": 4,
 "nbformat_minor": 5
}
