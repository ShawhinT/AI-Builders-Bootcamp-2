{
 "cells": [
  {
   "cell_type": "markdown",
   "id": "3e8f4dea-f94e-4340-bb18-94cd357922f5",
   "metadata": {},
   "source": [
    "# Scraping AI Job Board with Python\n",
    "## ABB #2 - Session 1\n",
    "\n",
    "Code authored by: Shaw Talebi"
   ]
  },
  {
   "cell_type": "markdown",
   "id": "f869ca1f-065f-491e-8949-175c28cfaacb",
   "metadata": {},
   "source": [
    "### imports"
   ]
  },
  {
   "cell_type": "code",
   "execution_count": 1,
   "id": "c390282b-88ed-46a9-b73c-7fd15404740b",
   "metadata": {},
   "outputs": [],
   "source": [
    "import requests\n",
    "from bs4 import BeautifulSoup\n",
    "import json\n",
    "import pandas as pd"
   ]
  },
  {
   "cell_type": "markdown",
   "id": "87bd67c0-432b-4ac2-aaea-7ba59023bcbc",
   "metadata": {},
   "source": [
    "### 1) extract job listing links"
   ]
  },
  {
   "cell_type": "code",
   "execution_count": 2,
   "id": "3e3e782d-6069-4229-a33b-7bef4edf53c9",
   "metadata": {},
   "outputs": [],
   "source": [
    "# URL of the website\n",
    "job_board_url = \"https://aijobs.net\"\n",
    "\n",
    "# Send a GET request to the website\n",
    "response = requests.get(job_board_url)\n",
    "\n",
    "# Check if the request was successful\n",
    "if response.status_code == 200:\n",
    "    # Get the HTML content\n",
    "    html_content = response.text\n",
    "else:\n",
    "    print(f\"Failed to retrieve the page. Status code: {response.status_code}\")"
   ]
  },
  {
   "cell_type": "code",
   "execution_count": 3,
   "id": "e304ab1e-985f-4d8d-a214-fb2d0d39aca1",
   "metadata": {
    "scrolled": true
   },
   "outputs": [],
   "source": [
    "# Parse the HTML with BeautifulSoup\n",
    "soup = BeautifulSoup(html_content, 'html.parser')"
   ]
  },
  {
   "cell_type": "code",
   "execution_count": 4,
   "id": "98530b6e-a137-4a4b-8cb3-46cc7ee2c79b",
   "metadata": {},
   "outputs": [],
   "source": [
    "# Find all job links within the <ul> list\n",
    "job_links = soup.select('ul#job-list a.col.py-2[href]')\n",
    "\n",
    "# explanation from ChatGPT:\n",
    "# This selects all <a> tags with class col py-2 inside the <ul> element with id=\"job-list\""
   ]
  },
  {
   "cell_type": "code",
   "execution_count": 5,
   "id": "ca19bfc2-45ca-4b0c-ae92-d95e258d0208",
   "metadata": {
    "scrolled": true
   },
   "outputs": [
    {
     "name": "stdout",
     "output_type": "stream",
     "text": [
      "https://aijobs.net/job/934495-staff-software-engineer/\n",
      "https://aijobs.net/job/939954-data-science-intern-madrid-careerstartsas-2025/\n",
      "https://aijobs.net/job/939953-midsenior-data-scientist/\n",
      "https://aijobs.net/job/939952-data-scientist-artificial-intelligence/\n",
      "https://aijobs.net/job/939951-senior-data-scientist/\n",
      "https://aijobs.net/job/939949-senior-full-stack-software-engineer-ai-ml-model-development-ml-operations-and-applied-data-science/\n",
      "https://aijobs.net/job/939948-mid-level-full-stack-software-engineer-aiml-model-development-ml-operations-and-applied-data-science/\n",
      "https://aijobs.net/job/939943-java-and-spark-architect-tax-national-tax-other-ttt-development-blr-hyd-gurgaon/\n",
      "https://aijobs.net/job/939942-lead-quantitative-analytics-specialist-genai-nlp-pyspark/\n",
      "https://aijobs.net/job/939941-assistant-manager-legends-sparks-sparks-nv/\n",
      "https://aijobs.net/job/939940-lead-data-engineer-python-spark-aws/\n",
      "https://aijobs.net/job/939939-data-engineer-iii-java-aws-spark/\n",
      "https://aijobs.net/job/939938-data-engineer-iii-pyspark-python-aws/\n",
      "https://aijobs.net/job/939937-data-engineer-pyspark-python/\n",
      "https://aijobs.net/job/939936-software-engineer-principal-model-implementation-platform-mip-python-pyspark-run-time-optimization-large-scale-processing/\n",
      "https://aijobs.net/job/939935-senior-software-engineer-apache-spark-expert-bangkok-based-relocation-provided/\n",
      "https://aijobs.net/job/939934-staff-software-engineer-apache-spark-expert-bangkok-based-relocation-provided/\n",
      "https://aijobs.net/job/939933-lead-data-engineer-spark-scala-sql/\n",
      "https://aijobs.net/job/939932-sr-big-data-engineer-java-apache-spark-and-data-architecture/\n",
      "https://aijobs.net/job/939931-software-engineer-ii-plsql-pyspark-scala-databrick-aws/\n",
      "https://aijobs.net/job/939930-software-engineer-ii-sparkpyspark-aws-python-sql/\n",
      "https://aijobs.net/job/939928-senior-bi-analyst/\n",
      "https://aijobs.net/job/939927-aiml-scientist/\n",
      "https://aijobs.net/job/939926-senior-performance-software-engineer-deep-learning-libraries/\n",
      "https://aijobs.net/job/939925-senior-computer-architect-deep-learning/\n",
      "https://aijobs.net/job/939924-senior-performance-engineer-deep-learning/\n",
      "https://aijobs.net/job/939923-senior-deep-learning-frameworks-sustaining-engineer/\n",
      "https://aijobs.net/job/939922-senior-deep-learning-systems-software-engineer-ai-infrastructure/\n",
      "https://aijobs.net/job/939921-deep-learning-engineer-motion-planning/\n",
      "https://aijobs.net/job/939919-software-development-ai-intern-1/\n",
      "https://aijobs.net/job/939918-ai-scientist-computer-vision-kr/\n",
      "https://aijobs.net/job/939917-aillm-prompt-engineeraillm/\n",
      "https://aijobs.net/job/939916-senior-prompt-engineer/\n",
      "https://aijobs.net/job/939915-consultant-prompt-engineer/\n",
      "https://aijobs.net/job/939912-airport-data-reporting-analyst-sr-administration-atl-workforce/\n",
      "https://aijobs.net/job/939911-manager-quality-data-reporting-and-analytics/\n",
      "https://aijobs.net/job/939910-airport-data-reporting-analyst-employee-services/\n",
      "https://aijobs.net/job/939909-decision-science-analyst-intermediate-pc-claims-analytics/\n",
      "https://aijobs.net/job/939908-decision-science-analyst-mid-level-pc-actuarial-reserving/\n",
      "https://aijobs.net/job/939907-decision-science-analyst-senior-brand-marketing-remote/\n",
      "https://aijobs.net/job/939906-decision-science-analyst-i/\n",
      "https://aijobs.net/job/939905-lead-decision-scientist/\n",
      "https://aijobs.net/job/939904-principal-scientist-director-health-economic-and-decision-sciences-mer/\n",
      "https://aijobs.net/job/939903-principal-scientist-director-health-economic-and-decision-sciences-eemea/\n",
      "https://aijobs.net/job/939902-lead-decision-scientist-product-analytics/\n",
      "https://aijobs.net/job/939901-software-engineer-data-platform/\n",
      "https://aijobs.net/job/939899-sr-electrical-design-engineer-data-center-design-engineering/\n",
      "https://aijobs.net/job/939898-electrical-design-engineer-data-center-design-engineering/\n",
      "https://aijobs.net/job/939897-staff-security-engineer-data-science-platform/\n",
      "https://aijobs.net/job/939896-sr-backend-software-engineer-data-services/\n"
     ]
    }
   ],
   "source": [
    "# Extract href attributes and create full URLs\n",
    "job_url_list = [job_board_url + link['href'] for link in job_links]\n",
    "\n",
    "for job_url in job_url_list:\n",
    "    print(job_url)"
   ]
  },
  {
   "cell_type": "markdown",
   "id": "1b6f1560-20e9-411e-a3b8-8f3c68b23864",
   "metadata": {},
   "source": [
    "### 2) extract info from one listing"
   ]
  },
  {
   "cell_type": "code",
   "execution_count": 6,
   "id": "27fe31d4-3407-4bab-87b8-43e9390ebd8d",
   "metadata": {},
   "outputs": [],
   "source": [
    "# extract html from job listing (same as cell 2)\n",
    "job_url = job_url_list[0]\n",
    "response = requests.get(job_url)\n",
    "html_content = response.text"
   ]
  },
  {
   "cell_type": "markdown",
   "id": "d0e6ce77-e815-45a0-ac27-e1ef06843a93",
   "metadata": {},
   "source": [
    "#### way 1: screen scraping "
   ]
  },
  {
   "cell_type": "code",
   "execution_count": 7,
   "id": "99ca15e1-f095-426a-a086-d7fa126e5a6c",
   "metadata": {},
   "outputs": [
    {
     "name": "stdout",
     "output_type": "stream",
     "text": [
      "Company Name: murmuration\n",
      "Job Title: Staff Software Engineer\n",
      "Job Description: Who We Are\n",
      "\n",
      "\n",
      "Murmuration is a nonprofit organization that amplifies the power of civic engagement by providing data, digital tools, and research-driven insights to community-focused organizations so that together we can create an America where everyone can lead healthy, free, and dignified lives.\n",
      "\n",
      "\n",
      "Every day, people are trying to shape our future for the better. Fighting for water that’s safe to drink. Schools that serve students equitably. Gun laws that make sense. And rallying people who care ...\n",
      "Salary: USD 135K - 165K\n"
     ]
    }
   ],
   "source": [
    "# Parse the HTML\n",
    "soup = BeautifulSoup(html_content, 'html.parser')\n",
    "\n",
    "# Extract company name\n",
    "company_name = soup.find('h2', class_='h5').text.strip()\n",
    "\n",
    "# Extract job title\n",
    "job_title = soup.find('h1', class_='display-5').text.strip()\n",
    "\n",
    "# Extract job description\n",
    "job_description_section = soup.find('div', class_='job-description-text')\n",
    "job_description = job_description_section.get_text(separator='\\n').strip() if job_description_section else \"N/A\"\n",
    "\n",
    "# Extract salary range\n",
    "salary_badge = soup.find('span', class_='badge rounded-pill text-bg-success')\n",
    "salary_badge = soup.select('#content > section > div > div > div:nth-child(2) > div.col-6.col-sm-7 > h5 > span')\n",
    "salary = salary_badge[0].text.strip() if salary_badge else \"N/A\"\n",
    "\n",
    "# Print extracted details\n",
    "print(f\"Company Name: {company_name}\")\n",
    "print(f\"Job Title: {job_title}\")\n",
    "print(f\"Job Description: {job_description[:500]}...\")  # Truncate for readability\n",
    "print(f\"Salary: {salary}\")"
   ]
  },
  {
   "cell_type": "markdown",
   "id": "5363fb9c-e1fc-4948-9ea6-49f89e87dad1",
   "metadata": {},
   "source": [
    "#### way 2: pull json data"
   ]
  },
  {
   "cell_type": "code",
   "execution_count": 8,
   "id": "0172107a-3df1-416a-b920-c0265d3047f3",
   "metadata": {},
   "outputs": [
    {
     "name": "stdout",
     "output_type": "stream",
     "text": [
      "Company Name: murmuration\n",
      "Job Title: Staff Software Engineer\n",
      "Job Description: Who We Are Murmuration is a nonprofit organization that amplifies the power of civic engagement by providing data, digital tools, and research-driven insights to community-focused organizations so that together we can create an America where everyone can lead healthy, free, and dignified lives. Every day, people are trying to shape our future for the better. Fighting for water that’s safe to drink. Schools that serve students equitably. Gun laws that make sense. And rallying people who care like...\n",
      "Salary Range: 135000 - 165000 USD\n"
     ]
    }
   ],
   "source": [
    "# Find the script tag containing JSON-LD\n",
    "script_tag = soup.find('script', type='application/ld+json')\n",
    "\n",
    "# Load the JSON content\n",
    "if script_tag:\n",
    "    job_data = json.loads(script_tag.string)\n",
    "\n",
    "    # Extract relevant fields\n",
    "    company_name = job_data['hiringOrganization']['name']\n",
    "    job_title = job_data['title']\n",
    "    job_description = job_data['description']\n",
    "    salary_min = job_data['baseSalary']['value']['minValue']\n",
    "    salary_max = job_data['baseSalary']['value']['maxValue']\n",
    "\n",
    "    # Print extracted data\n",
    "    print(f\"Company Name: {company_name}\")\n",
    "    print(f\"Job Title: {job_title}\")\n",
    "    print(f\"Job Description: {job_description[:500]}...\")\n",
    "    print(f\"Salary Range: {salary_min} - {salary_max} USD\")"
   ]
  },
  {
   "cell_type": "markdown",
   "id": "e1fd248d-03cc-4ca7-b66a-2147267d44c8",
   "metadata": {},
   "source": [
    "### 3) extract info from all listings"
   ]
  },
  {
   "cell_type": "code",
   "execution_count": 9,
   "id": "2a51046c-11de-4ebe-b023-eb09d95d9ab8",
   "metadata": {
    "jupyter": {
     "source_hidden": true
    }
   },
   "outputs": [],
   "source": [
    "# write function to implement way 2\n",
    "\n",
    "def extract_job_info(url):\n",
    "    \"\"\"\n",
    "    Extracts job information from a given job listing URL.\n",
    "\n",
    "    Args:\n",
    "        url (str): The URL of the job listing.\n",
    "\n",
    "    Returns:\n",
    "        dict: A dictionary containing the following key-value pairs:\n",
    "            - 'company_name' (str): Name of the hiring organization.\n",
    "            - 'job_title' (str): Title of the job.\n",
    "            - 'job_description' (str): Detailed description of the job.\n",
    "            - 'salary_min' (float or str): Minimum salary offered for the job.\n",
    "            - 'salary_max' (float or str): Maximum salary offered for the job.\n",
    "               Returns 'N/A' if salary information is unavailable.\n",
    "    \"\"\"\n",
    "    try:\n",
    "        # Fetch the HTML content of the job listing\n",
    "        response = requests.get(url)\n",
    "        response.raise_for_status()  # Raise an error for bad status codes\n",
    "        html_content = response.text\n",
    "        \n",
    "        # Parse the HTML with BeautifulSoup\n",
    "        soup = BeautifulSoup(html_content, 'html.parser')\n",
    "        \n",
    "        # Find the script tag containing JSON-LD\n",
    "        script_tag = soup.find('script', type='application/ld+json')\n",
    "        \n",
    "        if script_tag:\n",
    "            job_data = json.loads(script_tag.string)\n",
    "            \n",
    "            # Extract relevant fields with default values if not present\n",
    "            company_name = job_data.get('hiringOrganization', {}).get('name', 'N/A')\n",
    "            job_title = job_data.get('title', 'N/A')\n",
    "            job_description = job_data.get('description', 'N/A')\n",
    "            salary_data = job_data.get('baseSalary', {}).get('value', {})\n",
    "            salary_min = salary_data.get('minValue', 'N/A')\n",
    "            salary_max = salary_data.get('maxValue', 'N/A')\n",
    "            \n",
    "            return {\n",
    "                'company_name': company_name,\n",
    "                'job_title': job_title,\n",
    "                'job_description': job_description,\n",
    "                'salary_min': salary_min,\n",
    "                'salary_max': salary_max\n",
    "            }\n",
    "        else:\n",
    "            return {'error': 'No JSON-LD script found in the page'}\n",
    "    \n",
    "    except requests.RequestException as e:\n",
    "        return {'error': f\"Request failed: {e}\"}\n",
    "    \n",
    "    except json.JSONDecodeError:\n",
    "        return {'error': 'Failed to parse JSON-LD content'}\n",
    "    \n",
    "    except Exception as e:\n",
    "        return {'error': f\"An unexpected error occurred: {e}\"}"
   ]
  },
  {
   "cell_type": "code",
   "execution_count": 10,
   "id": "21d904f6-f86f-47c9-8b24-756fd69167ef",
   "metadata": {},
   "outputs": [
    {
     "name": "stdout",
     "output_type": "stream",
     "text": [
      "Staff Software Engineer\n",
      "Data Science Intern- Madrid [CareerStart@SAS 2025]\n",
      "Mid/Senior Data Scientist\n",
      "Data Scientist-Artificial Intelligence\n",
      "Senior Data Scientist\n",
      "Senior Full Stack Software Engineer - AI  ML Model Development, ML Operations, and Applied Data Science\n",
      "Mid-Level Full Stack Software Engineer -- AI/ML Model Development, ML Operations, and Applied Data Science\n",
      "Java and spark architect - TAX - National - TAX - Other - TTT Development - BLR, HYD/ Gurgaon\n",
      "Lead Quantitative Analytics Specialist - GenAI NLP PySpark\n",
      "Assistant Manager, Legends @ Sparks, Sparks NV\n",
      "Lead Data Engineer (Python, Spark, AWS)\n",
      "Data Engineer III - JAVA, AWS, Spark\n",
      "Data Engineer III - PySpark, Python, AWS\n",
      "Data Engineer ( Pyspark / Python )\n",
      "Could not extract info from: https://aijobs.net/job/939936-software-engineer-principal-model-implementation-platform-mip-python-pyspark-run-time-optimization-large-scale-processing/\n",
      "Senior Software Engineer - Apache Spark Expert (Bangkok based, relocation provided)\n",
      "Staff Software Engineer - Apache Spark Expert (Bangkok based, relocation provided)\n",
      "Lead Data Engineer (Spark, Scala, SQL)\n",
      "Sr. Big Data Engineer (Java, Apache Spark and Data Architecture)\n",
      "Software Engineer II - PLSQL, Pyspark/ Scala, Databrick, AWS\n",
      "Software Engineer II Spark/PySpark, AWS, Python, SQL\n",
      "Senior BI Analyst\n",
      "AI/ML Scientist\n",
      "Senior Performance Software Engineer, Deep Learning Libraries\n",
      "Senior Computer Architect - Deep Learning\n",
      "Senior Performance Engineer - Deep Learning\n",
      "Senior Deep Learning Frameworks Sustaining Engineer\n",
      "Senior Deep Learning Systems Software Engineer - AI Infrastructure\n",
      "Deep Learning Engineer, Motion Planning\n",
      "Software Development AI Intern 1\n",
      "Could not extract info from: https://aijobs.net/job/939918-ai-scientist-computer-vision-kr/\n",
      "AI/LLM Prompt Engineer（AI/LLM プロンプトエンジニア）\n",
      "Senior Prompt Engineer\n",
      "Consultant-Prompt Engineer\n",
      "Airport Data Reporting Analyst, Sr. - Administration- ATL Workforce\n",
      "Manager, Quality Data Reporting and Analytics\n",
      "Airport Data Reporting Analyst- Employee Services\n",
      "Decision Science Analyst (Intermediate) – P&amp;C Claims Analytics\n",
      "Decision Science Analyst (Mid-Level) – P&amp;C Actuarial Reserving\n",
      "Decision Science Analyst Senior - Brand Marketing (Remote)\n",
      "Decision Science Analyst I\n",
      "Lead-Decision Scientist\n",
      "Principal Scientist (Director), Health Economic and Decision Sciences - MER\n",
      "Principal Scientist (Director), Health Economic and Decision Sciences - EEMEA\n",
      "Lead Decision Scientist - Product Analytics\n",
      "Software Engineer, Data Platform\n",
      "Could not extract info from: https://aijobs.net/job/939899-sr-electrical-design-engineer-data-center-design-engineering/\n",
      "Electrical Design Engineer, Data Center Design Engineering\n",
      "Staff Security Engineer, Data Science Platform\n",
      "Sr. Backend Software Engineer, Data Services\n"
     ]
    }
   ],
   "source": [
    "# extract job info from all job urls\n",
    "job_info_list = []\n",
    "\n",
    "for job_url in job_url_list:\n",
    "    # extract job info\n",
    "    job_info = extract_job_info(job_url)\n",
    "\n",
    "    # store results in list if no errors occured\n",
    "    try:\n",
    "        print(job_info[\"job_title\"])\n",
    "        job_info_list.append(job_info)\n",
    "    except:\n",
    "        print(f\"Could not extract info from: {job_url}\")\n",
    "        continue"
   ]
  },
  {
   "cell_type": "markdown",
   "id": "a1e0fa43-3211-4801-a9c5-60155da726c7",
   "metadata": {},
   "source": [
    "### 4) Store data in Pandas dataframe"
   ]
  },
  {
   "cell_type": "code",
   "execution_count": 11,
   "id": "52d92b38-51dc-4b90-8af3-303eb23832c5",
   "metadata": {},
   "outputs": [
    {
     "data": {
      "text/html": [
       "<div>\n",
       "<style scoped>\n",
       "    .dataframe tbody tr th:only-of-type {\n",
       "        vertical-align: middle;\n",
       "    }\n",
       "\n",
       "    .dataframe tbody tr th {\n",
       "        vertical-align: top;\n",
       "    }\n",
       "\n",
       "    .dataframe thead th {\n",
       "        text-align: right;\n",
       "    }\n",
       "</style>\n",
       "<table border=\"1\" class=\"dataframe\">\n",
       "  <thead>\n",
       "    <tr style=\"text-align: right;\">\n",
       "      <th></th>\n",
       "      <th>company_name</th>\n",
       "      <th>job_title</th>\n",
       "      <th>job_description</th>\n",
       "      <th>salary_min</th>\n",
       "      <th>salary_max</th>\n",
       "    </tr>\n",
       "  </thead>\n",
       "  <tbody>\n",
       "    <tr>\n",
       "      <th>0</th>\n",
       "      <td>murmuration</td>\n",
       "      <td>Staff Software Engineer</td>\n",
       "      <td>Who We Are Murmuration is a nonprofit organiza...</td>\n",
       "      <td>135000</td>\n",
       "      <td>165000</td>\n",
       "    </tr>\n",
       "    <tr>\n",
       "      <th>1</th>\n",
       "      <td>SAS</td>\n",
       "      <td>Data Science Intern- Madrid [CareerStart@SAS 2...</td>\n",
       "      <td>CareerStart@SAS Internship Program 2025 Da...</td>\n",
       "      <td>N/A</td>\n",
       "      <td>N/A</td>\n",
       "    </tr>\n",
       "    <tr>\n",
       "      <th>2</th>\n",
       "      <td>Endeavour Group</td>\n",
       "      <td>Mid/Senior Data Scientist</td>\n",
       "      <td>Company DescriptionLet’s create a more sociabl...</td>\n",
       "      <td>91774</td>\n",
       "      <td>170438</td>\n",
       "    </tr>\n",
       "    <tr>\n",
       "      <th>3</th>\n",
       "      <td>IBM</td>\n",
       "      <td>Data Scientist-Artificial Intelligence</td>\n",
       "      <td>IntroductionIn this role you will join IBM Con...</td>\n",
       "      <td>74567</td>\n",
       "      <td>138482</td>\n",
       "    </tr>\n",
       "    <tr>\n",
       "      <th>4</th>\n",
       "      <td>NielsenIQ</td>\n",
       "      <td>Senior Data Scientist</td>\n",
       "      <td>Company DescriptionGfk is seeking a Data Scien...</td>\n",
       "      <td>57359</td>\n",
       "      <td>106524</td>\n",
       "    </tr>\n",
       "  </tbody>\n",
       "</table>\n",
       "</div>"
      ],
      "text/plain": [
       "      company_name                                          job_title  \\\n",
       "0      murmuration                            Staff Software Engineer   \n",
       "1              SAS  Data Science Intern- Madrid [CareerStart@SAS 2...   \n",
       "2  Endeavour Group                          Mid/Senior Data Scientist   \n",
       "3              IBM             Data Scientist-Artificial Intelligence   \n",
       "4        NielsenIQ                              Senior Data Scientist   \n",
       "\n",
       "                                     job_description salary_min salary_max  \n",
       "0  Who We Are Murmuration is a nonprofit organiza...     135000     165000  \n",
       "1      CareerStart@SAS Internship Program 2025 Da...        N/A        N/A  \n",
       "2  Company DescriptionLet’s create a more sociabl...      91774     170438  \n",
       "3  IntroductionIn this role you will join IBM Con...      74567     138482  \n",
       "4  Company DescriptionGfk is seeking a Data Scien...      57359     106524  "
      ]
     },
     "execution_count": 11,
     "metadata": {},
     "output_type": "execute_result"
    }
   ],
   "source": [
    "df = pd.DataFrame(job_info_list)\n",
    "df.head()"
   ]
  },
  {
   "cell_type": "code",
   "execution_count": 12,
   "id": "b73e72fb-814d-4aa2-8041-cde73af282e4",
   "metadata": {},
   "outputs": [],
   "source": [
    "# save to file\n",
    "df.to_csv(\"data/ai_job_data.csv\", index=False)"
   ]
  },
  {
   "cell_type": "markdown",
   "id": "1968ba43-560f-4c07-8482-c4e258c188f5",
   "metadata": {},
   "source": [
    "#### Future directions\n",
    "- add pagination (extract urls from mutliple pages)\n",
    "- extract other fields from job listings e.g. tags, key skills"
   ]
  },
  {
   "cell_type": "code",
   "execution_count": null,
   "id": "f382ffd9-e988-43d4-91e3-61dddaa66028",
   "metadata": {},
   "outputs": [],
   "source": []
  }
 ],
 "metadata": {
  "kernelspec": {
   "display_name": "Python 3 (ipykernel)",
   "language": "python",
   "name": "python3"
  },
  "language_info": {
   "codemirror_mode": {
    "name": "ipython",
    "version": 3
   },
   "file_extension": ".py",
   "mimetype": "text/x-python",
   "name": "python",
   "nbconvert_exporter": "python",
   "pygments_lexer": "ipython3",
   "version": "3.12.2"
  }
 },
 "nbformat": 4,
 "nbformat_minor": 5
}
